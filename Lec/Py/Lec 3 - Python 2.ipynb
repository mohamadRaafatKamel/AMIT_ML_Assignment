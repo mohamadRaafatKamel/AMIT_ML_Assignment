{
 "cells": [
  {
   "cell_type": "markdown",
   "id": "389f5269",
   "metadata": {},
   "source": [
    "# Lec 3 - Python 2"
   ]
  },
  {
   "cell_type": "code",
   "execution_count": 1,
   "id": "89d87d05",
   "metadata": {},
   "outputs": [],
   "source": [
    "G = 6.67 * 10**-11\n",
    "M = 6.0 * 10**24\n",
    "m = 7.34 * 10**22\n",
    "r = 3.84 * 10**8\n",
    "\n",
    "F = (G*M*m)/(r**2)\n"
   ]
  },
  {
   "cell_type": "code",
   "execution_count": 2,
   "id": "55b3e886",
   "metadata": {},
   "outputs": [
    {
     "data": {
      "text/plain": [
       "1.9920979817708333e+20"
      ]
     },
     "execution_count": 2,
     "metadata": {},
     "output_type": "execute_result"
    }
   ],
   "source": [
    "F"
   ]
  },
  {
   "cell_type": "code",
   "execution_count": 4,
   "id": "a97ce3cd",
   "metadata": {},
   "outputs": [
    {
     "name": "stdout",
     "output_type": "stream",
     "text": [
      "Enter input Like x,x,x,x,x\n",
      "5,6,7,8,9\n",
      "List => ['5', '6', '7', '8', '9']\n",
      "Tuple => ('5', '6', '7', '8', '9')\n"
     ]
    }
   ],
   "source": [
    "x = input(\"Enter input Like x,x,x,x,x\\n\")\n",
    "myList = x.split(',')\n",
    "mytuple = tuple(myList)\n",
    "print(\"List =>\", myList)\n",
    "print(\"Tuple =>\", mytuple)"
   ]
  },
  {
   "cell_type": "code",
   "execution_count": null,
   "id": "36063aee",
   "metadata": {},
   "outputs": [],
   "source": []
  },
  {
   "cell_type": "code",
   "execution_count": null,
   "id": "183e15eb",
   "metadata": {},
   "outputs": [],
   "source": []
  },
  {
   "cell_type": "code",
   "execution_count": null,
   "id": "5c027937",
   "metadata": {},
   "outputs": [],
   "source": []
  }
 ],
 "metadata": {
  "kernelspec": {
   "display_name": "Python 3 (ipykernel)",
   "language": "python",
   "name": "python3"
  },
  "language_info": {
   "codemirror_mode": {
    "name": "ipython",
    "version": 3
   },
   "file_extension": ".py",
   "mimetype": "text/x-python",
   "name": "python",
   "nbconvert_exporter": "python",
   "pygments_lexer": "ipython3",
   "version": "3.9.7"
  }
 },
 "nbformat": 4,
 "nbformat_minor": 5
}
