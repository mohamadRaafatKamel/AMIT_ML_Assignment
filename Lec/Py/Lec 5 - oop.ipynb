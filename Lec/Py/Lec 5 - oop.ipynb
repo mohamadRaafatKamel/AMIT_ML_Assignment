{
 "cells": [
  {
   "cell_type": "code",
   "execution_count": 6,
   "id": "38012106",
   "metadata": {},
   "outputs": [],
   "source": [
    "x = open(\"/Users/ahmed/Desktop/g14.txt\", \"r\")"
   ]
  },
  {
   "cell_type": "code",
   "execution_count": 7,
   "id": "e0021a57",
   "metadata": {},
   "outputs": [
    {
     "data": {
      "text/plain": [
       "<_io.TextIOWrapper name='/Users/ahmed/Desktop/g14.txt' mode='r' encoding='UTF-8'>"
      ]
     },
     "execution_count": 7,
     "metadata": {},
     "output_type": "execute_result"
    }
   ],
   "source": [
    "x"
   ]
  },
  {
   "cell_type": "code",
   "execution_count": 8,
   "id": "7a0189f0",
   "metadata": {},
   "outputs": [
    {
     "name": "stdout",
     "output_type": "stream",
     "text": [
      "Ahmed\n",
      "\n",
      "Essam\n",
      "\n",
      "Azab\n"
     ]
    }
   ],
   "source": [
    "for line in x:\n",
    "    print(line)"
   ]
  },
  {
   "cell_type": "code",
   "execution_count": 9,
   "id": "6643b52d",
   "metadata": {},
   "outputs": [
    {
     "data": {
      "text/plain": [
       "<_io.TextIOWrapper name='/Users/ahmed/Desktop/g15.txt' mode='x' encoding='UTF-8'>"
      ]
     },
     "execution_count": 9,
     "metadata": {},
     "output_type": "execute_result"
    }
   ],
   "source": [
    "open(\"/Users/ahmed/Desktop/g15.txt\", \"x\")"
   ]
  },
  {
   "cell_type": "code",
   "execution_count": 19,
   "id": "47b4cd2f",
   "metadata": {},
   "outputs": [
    {
     "name": "stdout",
     "output_type": "stream",
     "text": [
      "ahmed essam azab\n"
     ]
    }
   ],
   "source": [
    "with open(\"/Users/ahmed/Desktop/g15.txt\", \"r\") as f:\n",
    "    \n",
    "    print(f.read())"
   ]
  },
  {
   "cell_type": "code",
   "execution_count": 20,
   "id": "ad99ea8e",
   "metadata": {},
   "outputs": [
    {
     "ename": "ValueError",
     "evalue": "I/O operation on closed file.",
     "output_type": "error",
     "traceback": [
      "\u001b[0;31m---------------------------------------------------------------------------\u001b[0m",
      "\u001b[0;31mValueError\u001b[0m                                Traceback (most recent call last)",
      "\u001b[0;32m/var/folders/bp/w143nxk17p539r5_5__k6lhh0000gn/T/ipykernel_4566/1429071373.py\u001b[0m in \u001b[0;36m<module>\u001b[0;34m\u001b[0m\n\u001b[0;32m----> 1\u001b[0;31m \u001b[0mprint\u001b[0m\u001b[0;34m(\u001b[0m\u001b[0mf\u001b[0m\u001b[0;34m.\u001b[0m\u001b[0mread\u001b[0m\u001b[0;34m(\u001b[0m\u001b[0;34m)\u001b[0m\u001b[0;34m)\u001b[0m\u001b[0;34m\u001b[0m\u001b[0;34m\u001b[0m\u001b[0m\n\u001b[0m",
      "\u001b[0;31mValueError\u001b[0m: I/O operation on closed file."
     ]
    }
   ],
   "source": [
    "print(f.read())"
   ]
  },
  {
   "cell_type": "code",
   "execution_count": 26,
   "id": "90e133c6",
   "metadata": {},
   "outputs": [],
   "source": [
    "x.close()"
   ]
  },
  {
   "cell_type": "code",
   "execution_count": 27,
   "id": "3b9ff653",
   "metadata": {},
   "outputs": [
    {
     "data": {
      "text/plain": [
       "<_io.TextIOWrapper name='/Users/ahmed/Desktop/g14.txt' mode='r' encoding='UTF-8'>"
      ]
     },
     "execution_count": 27,
     "metadata": {},
     "output_type": "execute_result"
    }
   ],
   "source": [
    "x"
   ]
  },
  {
   "cell_type": "code",
   "execution_count": 30,
   "id": "7d9ab84d",
   "metadata": {},
   "outputs": [],
   "source": [
    "with open(\"/Users/ahmed/Desktop/g14.txt\", \"r\") as f:\n",
    "    \n",
    "    x = f.readlines()"
   ]
  },
  {
   "cell_type": "code",
   "execution_count": 31,
   "id": "f79c5512",
   "metadata": {},
   "outputs": [
    {
     "data": {
      "text/plain": [
       "['Ahmed\\n', 'Essam\\n', 'Azab']"
      ]
     },
     "execution_count": 31,
     "metadata": {},
     "output_type": "execute_result"
    }
   ],
   "source": [
    "x"
   ]
  },
  {
   "cell_type": "code",
   "execution_count": 32,
   "id": "952b0b24",
   "metadata": {},
   "outputs": [
    {
     "data": {
      "text/plain": [
       "<_io.TextIOWrapper name='/Users/ahmed/Desktop/ahmed.txt' mode='x' encoding='UTF-8'>"
      ]
     },
     "execution_count": 32,
     "metadata": {},
     "output_type": "execute_result"
    }
   ],
   "source": [
    "open(\"/Users/ahmed/Desktop/ahmed.txt\", \"x\")"
   ]
  },
  {
   "cell_type": "code",
   "execution_count": 34,
   "id": "6c810082",
   "metadata": {},
   "outputs": [],
   "source": [
    "lines = [\"Ahmed\", \"Essam\", \"male\", \"29\", \"1222334\"]"
   ]
  },
  {
   "cell_type": "code",
   "execution_count": 36,
   "id": "abf456e2",
   "metadata": {},
   "outputs": [],
   "source": [
    "with open(\"/Users/ahmed/Desktop/info.txt\", \"w\") as f :\n",
    "    for line in lines:\n",
    "        f.write(line)\n",
    "        f.write(\"\\n\")"
   ]
  },
  {
   "cell_type": "code",
   "execution_count": 39,
   "id": "1b66dc79",
   "metadata": {},
   "outputs": [],
   "source": [
    "import random as rd"
   ]
  },
  {
   "cell_type": "code",
   "execution_count": 41,
   "id": "9f3b6c4f",
   "metadata": {},
   "outputs": [],
   "source": [
    "from random import random"
   ]
  },
  {
   "cell_type": "code",
   "execution_count": 43,
   "id": "d4210f57",
   "metadata": {},
   "outputs": [],
   "source": [
    "from random import *"
   ]
  },
  {
   "cell_type": "code",
   "execution_count": 42,
   "id": "9645ba72",
   "metadata": {},
   "outputs": [
    {
     "data": {
      "text/plain": [
       "0.6516592624755877"
      ]
     },
     "execution_count": 42,
     "metadata": {},
     "output_type": "execute_result"
    }
   ],
   "source": [
    "rd.random()"
   ]
  },
  {
   "cell_type": "code",
   "execution_count": 45,
   "id": "913abfe3",
   "metadata": {},
   "outputs": [],
   "source": [
    "from ahmedmodule import print_My_Name"
   ]
  },
  {
   "cell_type": "code",
   "execution_count": 47,
   "id": "88902ff2",
   "metadata": {},
   "outputs": [
    {
     "name": "stdout",
     "output_type": "stream",
     "text": [
      "ahmed\n"
     ]
    }
   ],
   "source": [
    "print_My_Name()"
   ]
  },
  {
   "cell_type": "code",
   "execution_count": 49,
   "id": "0e7a3a68",
   "metadata": {},
   "outputs": [],
   "source": [
    "def car():\n",
    "    car_name = \"BMW\"\n",
    "    year = 1997\n",
    "    color = \"red\"\n",
    "    print(car_name)\n",
    "    print(year)\n",
    "    print(color)\n",
    "    "
   ]
  },
  {
   "cell_type": "code",
   "execution_count": 50,
   "id": "a0775b0e",
   "metadata": {},
   "outputs": [
    {
     "name": "stdout",
     "output_type": "stream",
     "text": [
      "BMW\n",
      "1997\n",
      "red\n"
     ]
    }
   ],
   "source": [
    "car()"
   ]
  },
  {
   "cell_type": "code",
   "execution_count": 80,
   "id": "c2f88710",
   "metadata": {},
   "outputs": [],
   "source": [
    "class Car:\n",
    "    def __init__(self, name, year, color):\n",
    "        self.name = name\n",
    "        self.year = year\n",
    "        self.c = color\n",
    "        \n",
    "    def speed(self):\n",
    "        print(\"your limit is 100k/h\")\n",
    "        "
   ]
  },
  {
   "cell_type": "code",
   "execution_count": 81,
   "id": "ffdca8c5",
   "metadata": {},
   "outputs": [],
   "source": [
    "firstcar = Car(\"fiat 128\", 1800, \"red\")"
   ]
  },
  {
   "cell_type": "code",
   "execution_count": 102,
   "id": "af4c5550",
   "metadata": {},
   "outputs": [
    {
     "data": {
      "text/plain": [
       "'fiat 128'"
      ]
     },
     "execution_count": 102,
     "metadata": {},
     "output_type": "execute_result"
    }
   ],
   "source": [
    "firstcar.name"
   ]
  },
  {
   "cell_type": "code",
   "execution_count": 83,
   "id": "e2bdcc97",
   "metadata": {},
   "outputs": [
    {
     "data": {
      "text/plain": [
       "1800"
      ]
     },
     "execution_count": 83,
     "metadata": {},
     "output_type": "execute_result"
    }
   ],
   "source": [
    "firstcar.year"
   ]
  },
  {
   "cell_type": "code",
   "execution_count": 84,
   "id": "105575c1",
   "metadata": {},
   "outputs": [
    {
     "data": {
      "text/plain": [
       "'red'"
      ]
     },
     "execution_count": 84,
     "metadata": {},
     "output_type": "execute_result"
    }
   ],
   "source": [
    "firstcar.c"
   ]
  },
  {
   "cell_type": "code",
   "execution_count": 85,
   "id": "a8e419d7",
   "metadata": {},
   "outputs": [],
   "source": [
    "mycar = Car(\"BMW\", 1997, \"black\")"
   ]
  },
  {
   "cell_type": "code",
   "execution_count": 100,
   "id": "33a6c439",
   "metadata": {},
   "outputs": [],
   "source": [
    "mycar.name = \"mmm\""
   ]
  },
  {
   "cell_type": "code",
   "execution_count": 104,
   "id": "730f6cfa",
   "metadata": {},
   "outputs": [
    {
     "data": {
      "text/plain": [
       "'mmm'"
      ]
     },
     "execution_count": 104,
     "metadata": {},
     "output_type": "execute_result"
    }
   ],
   "source": [
    "mycar.name"
   ]
  },
  {
   "cell_type": "code",
   "execution_count": 87,
   "id": "47bc3359",
   "metadata": {},
   "outputs": [
    {
     "data": {
      "text/plain": [
       "1997"
      ]
     },
     "execution_count": 87,
     "metadata": {},
     "output_type": "execute_result"
    }
   ],
   "source": [
    "mycar.year"
   ]
  },
  {
   "cell_type": "code",
   "execution_count": 88,
   "id": "12fceb40",
   "metadata": {},
   "outputs": [
    {
     "data": {
      "text/plain": [
       "'black'"
      ]
     },
     "execution_count": 88,
     "metadata": {},
     "output_type": "execute_result"
    }
   ],
   "source": [
    "mycar.c"
   ]
  },
  {
   "cell_type": "code",
   "execution_count": 89,
   "id": "f71840cc",
   "metadata": {},
   "outputs": [
    {
     "ename": "TypeError",
     "evalue": "speed() takes 0 positional arguments but 1 was given",
     "output_type": "error",
     "traceback": [
      "\u001b[0;31m---------------------------------------------------------------------------\u001b[0m",
      "\u001b[0;31mTypeError\u001b[0m                                 Traceback (most recent call last)",
      "\u001b[0;32m/var/folders/bp/w143nxk17p539r5_5__k6lhh0000gn/T/ipykernel_4566/3722203369.py\u001b[0m in \u001b[0;36m<module>\u001b[0;34m\u001b[0m\n\u001b[0;32m----> 1\u001b[0;31m \u001b[0mfirstcar\u001b[0m\u001b[0;34m.\u001b[0m\u001b[0mspeed\u001b[0m\u001b[0;34m(\u001b[0m\u001b[0;34m)\u001b[0m\u001b[0;34m\u001b[0m\u001b[0;34m\u001b[0m\u001b[0m\n\u001b[0m",
      "\u001b[0;31mTypeError\u001b[0m: speed() takes 0 positional arguments but 1 was given"
     ]
    }
   ],
   "source": [
    "firstcar.speed()"
   ]
  },
  {
   "cell_type": "code",
   "execution_count": 103,
   "id": "d3bcd932",
   "metadata": {},
   "outputs": [],
   "source": [
    "Car.name = \"ddddddd\""
   ]
  },
  {
   "cell_type": "code",
   "execution_count": 99,
   "id": "f6c3f949",
   "metadata": {},
   "outputs": [
    {
     "ename": "TypeError",
     "evalue": "__init__() missing 1 required positional argument: 'color'",
     "output_type": "error",
     "traceback": [
      "\u001b[0;31m---------------------------------------------------------------------------\u001b[0m",
      "\u001b[0;31mTypeError\u001b[0m                                 Traceback (most recent call last)",
      "\u001b[0;32m/var/folders/bp/w143nxk17p539r5_5__k6lhh0000gn/T/ipykernel_4566/1230237624.py\u001b[0m in \u001b[0;36m<module>\u001b[0;34m\u001b[0m\n\u001b[0;32m----> 1\u001b[0;31m \u001b[0mx\u001b[0m \u001b[0;34m=\u001b[0m \u001b[0mCar\u001b[0m\u001b[0;34m(\u001b[0m\u001b[0;36m99\u001b[0m\u001b[0;34m,\u001b[0m \u001b[0;34m\"yy\"\u001b[0m\u001b[0;34m)\u001b[0m\u001b[0;34m\u001b[0m\u001b[0;34m\u001b[0m\u001b[0m\n\u001b[0m",
      "\u001b[0;31mTypeError\u001b[0m: __init__() missing 1 required positional argument: 'color'"
     ]
    }
   ],
   "source": [
    "x = Car(99, \"yy\")"
   ]
  },
  {
   "cell_type": "code",
   "execution_count": 98,
   "id": "ed1eefcb",
   "metadata": {},
   "outputs": [
    {
     "data": {
      "text/plain": [
       "'bb'"
      ]
     },
     "execution_count": 98,
     "metadata": {},
     "output_type": "execute_result"
    }
   ],
   "source": [
    "x.name"
   ]
  },
  {
   "cell_type": "code",
   "execution_count": 125,
   "id": "8d79a682",
   "metadata": {},
   "outputs": [],
   "source": [
    "class Car:\n",
    "    location = 99\n",
    "    def __init__(self, name, year, color):\n",
    "        self.name = name\n",
    "        self.year = year\n",
    "        self.c = color\n",
    "        \n",
    "    def speed(self):\n",
    "        print(\"your limit is 100k/h\")\n",
    "        "
   ]
  },
  {
   "cell_type": "code",
   "execution_count": 126,
   "id": "330c5282",
   "metadata": {},
   "outputs": [
    {
     "data": {
      "text/plain": [
       "99"
      ]
     },
     "execution_count": 126,
     "metadata": {},
     "output_type": "execute_result"
    }
   ],
   "source": [
    "Car.location"
   ]
  },
  {
   "cell_type": "code",
   "execution_count": 134,
   "id": "abee4b5a",
   "metadata": {},
   "outputs": [],
   "source": [
    "sec_car = Car(\"bmw\", 1997, \"black\")"
   ]
  },
  {
   "cell_type": "code",
   "execution_count": 144,
   "id": "66030f64",
   "metadata": {},
   "outputs": [
    {
     "data": {
      "text/plain": [
       "777777"
      ]
     },
     "execution_count": 144,
     "metadata": {},
     "output_type": "execute_result"
    }
   ],
   "source": [
    "sec_car.location"
   ]
  },
  {
   "cell_type": "code",
   "execution_count": 136,
   "id": "690d263c",
   "metadata": {},
   "outputs": [
    {
     "data": {
      "text/plain": [
       "'bmw'"
      ]
     },
     "execution_count": 136,
     "metadata": {},
     "output_type": "execute_result"
    }
   ],
   "source": [
    "sec_car.name"
   ]
  },
  {
   "cell_type": "code",
   "execution_count": 137,
   "id": "81726de6",
   "metadata": {},
   "outputs": [],
   "source": [
    "_3rd_car = Car(\"ooo\", 1888, \"y\")"
   ]
  },
  {
   "cell_type": "code",
   "execution_count": 138,
   "id": "979b7ab4",
   "metadata": {},
   "outputs": [
    {
     "data": {
      "text/plain": [
       "'ooo'"
      ]
     },
     "execution_count": 138,
     "metadata": {},
     "output_type": "execute_result"
    }
   ],
   "source": [
    "_3rd_car.name"
   ]
  },
  {
   "cell_type": "code",
   "execution_count": 141,
   "id": "2db2fffa",
   "metadata": {},
   "outputs": [],
   "source": [
    "_3rd_car.location = 900"
   ]
  },
  {
   "cell_type": "code",
   "execution_count": 142,
   "id": "df14f360",
   "metadata": {},
   "outputs": [
    {
     "data": {
      "text/plain": [
       "900"
      ]
     },
     "execution_count": 142,
     "metadata": {},
     "output_type": "execute_result"
    }
   ],
   "source": [
    "_3rd_car.location"
   ]
  },
  {
   "cell_type": "code",
   "execution_count": 133,
   "id": "516deeb7",
   "metadata": {},
   "outputs": [],
   "source": [
    "Car.location = 777777"
   ]
  },
  {
   "cell_type": "code",
   "execution_count": 145,
   "id": "b36e9bd6",
   "metadata": {},
   "outputs": [
    {
     "data": {
      "text/plain": [
       "'99'"
      ]
     },
     "execution_count": 145,
     "metadata": {},
     "output_type": "execute_result"
    }
   ],
   "source": [
    "str(99)"
   ]
  },
  {
   "cell_type": "code",
   "execution_count": null,
   "id": "0551c966",
   "metadata": {},
   "outputs": [],
   "source": []
  },
  {
   "cell_type": "code",
   "execution_count": null,
   "id": "718909b2",
   "metadata": {},
   "outputs": [],
   "source": []
  },
  {
   "cell_type": "code",
   "execution_count": null,
   "id": "cdf02179",
   "metadata": {},
   "outputs": [],
   "source": []
  },
  {
   "cell_type": "code",
   "execution_count": null,
   "id": "10104a47",
   "metadata": {},
   "outputs": [],
   "source": []
  },
  {
   "cell_type": "code",
   "execution_count": null,
   "id": "6c6e652a",
   "metadata": {},
   "outputs": [],
   "source": []
  },
  {
   "cell_type": "code",
   "execution_count": null,
   "id": "0252eac7",
   "metadata": {},
   "outputs": [],
   "source": []
  },
  {
   "cell_type": "code",
   "execution_count": null,
   "id": "e35b3abb",
   "metadata": {},
   "outputs": [],
   "source": []
  }
 ],
 "metadata": {
  "kernelspec": {
   "display_name": "Python 3 (ipykernel)",
   "language": "python",
   "name": "python3"
  },
  "language_info": {
   "codemirror_mode": {
    "name": "ipython",
    "version": 3
   },
   "file_extension": ".py",
   "mimetype": "text/x-python",
   "name": "python",
   "nbconvert_exporter": "python",
   "pygments_lexer": "ipython3",
   "version": "3.9.7"
  }
 },
 "nbformat": 4,
 "nbformat_minor": 5
}
