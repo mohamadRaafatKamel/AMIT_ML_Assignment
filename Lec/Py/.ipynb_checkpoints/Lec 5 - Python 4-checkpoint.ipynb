{
 "cells": [
  {
   "cell_type": "markdown",
   "id": "5507cb1f",
   "metadata": {},
   "source": [
    "# Lec 5 - Python 4"
   ]
  },
  {
   "cell_type": "code",
   "execution_count": 1,
   "id": "c3e39bb7",
   "metadata": {},
   "outputs": [],
   "source": [
    "f1 = open(\"fileLec5.txt\", \"a\")\n",
    "f1.write(\"Mohamad Raafat Mohamad\")\n",
    "f1.write(\"\"\"\n",
    "Mohamad \n",
    "Raafat \n",
    "Mohamad\n",
    "\"\"\")\n",
    "         \n",
    "f1.close()"
   ]
  },
  {
   "cell_type": "code",
   "execution_count": 2,
   "id": "7372b092",
   "metadata": {},
   "outputs": [],
   "source": [
    "with open('fileLec5.txt') as f:\n",
    "    x= f.readlines()\n",
    "    lines = []\n",
    "    for line in x:\n",
    "        lines.append(line)"
   ]
  },
  {
   "cell_type": "code",
   "execution_count": 3,
   "id": "e74a5ce5",
   "metadata": {},
   "outputs": [
    {
     "data": {
      "text/plain": [
       "['Mohamad Raafat Mohamad\\n',\n",
       " 'Mohamad \\n',\n",
       " 'Raafat \\n',\n",
       " 'Mohamad\\n',\n",
       " 'Mohamad Raafat Mohamad\\n',\n",
       " 'Mohamad \\n',\n",
       " 'Raafat \\n',\n",
       " 'Mohamad\\n']"
      ]
     },
     "execution_count": 3,
     "metadata": {},
     "output_type": "execute_result"
    }
   ],
   "source": [
    "lines"
   ]
  },
  {
   "cell_type": "code",
   "execution_count": 4,
   "id": "581dacb8",
   "metadata": {},
   "outputs": [
    {
     "name": "stdout",
     "output_type": "stream",
     "text": [
      " Name=> MRM, age=> 55, course=> 100 \n"
     ]
    }
   ],
   "source": [
    "class Students:\n",
    "    count = 0\n",
    "    def __init__(self, name, age, courseNo):\n",
    "        self.name =name\n",
    "        self.age = age\n",
    "        self.courseNo = courseNo\n",
    "        Students.count += 1\n",
    "        \n",
    "    def stuInfo(self):\n",
    "        return (f\" Name=> {self.name}, age=> {self.age}, course=> {self.courseNo} \")\n",
    "s1 = Students('MRM', 55, 100)\n",
    "print(s1.stuInfo())"
   ]
  },
  {
   "cell_type": "code",
   "execution_count": null,
   "id": "49dedf60",
   "metadata": {},
   "outputs": [],
   "source": []
  },
  {
   "cell_type": "code",
   "execution_count": null,
   "id": "8af5f72a",
   "metadata": {},
   "outputs": [],
   "source": []
  }
 ],
 "metadata": {
  "kernelspec": {
   "display_name": "Python 3 (ipykernel)",
   "language": "python",
   "name": "python3"
  },
  "language_info": {
   "codemirror_mode": {
    "name": "ipython",
    "version": 3
   },
   "file_extension": ".py",
   "mimetype": "text/x-python",
   "name": "python",
   "nbconvert_exporter": "python",
   "pygments_lexer": "ipython3",
   "version": "3.9.7"
  }
 },
 "nbformat": 4,
 "nbformat_minor": 5
}
