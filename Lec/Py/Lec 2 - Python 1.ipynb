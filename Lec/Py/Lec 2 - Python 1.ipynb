{
 "cells": [
  {
   "cell_type": "markdown",
   "id": "af8b60d7",
   "metadata": {},
   "source": [
    "# Lec 2 - Python 1"
   ]
  },
  {
   "cell_type": "code",
   "execution_count": 2,
   "id": "1a78b801",
   "metadata": {},
   "outputs": [],
   "source": [
    "name =\"ahmed\""
   ]
  },
  {
   "cell_type": "code",
   "execution_count": 3,
   "id": "963c6fd5",
   "metadata": {},
   "outputs": [
    {
     "data": {
      "text/plain": [
       "'em'"
      ]
     },
     "execution_count": 3,
     "metadata": {},
     "output_type": "execute_result"
    }
   ],
   "source": [
    "name[-2:-4:-1]"
   ]
  },
  {
   "cell_type": "code",
   "execution_count": 5,
   "id": "b2e7fdb5",
   "metadata": {},
   "outputs": [
    {
     "data": {
      "text/plain": [
       "'ahmed ahmed'"
      ]
     },
     "execution_count": 5,
     "metadata": {},
     "output_type": "execute_result"
    }
   ],
   "source": [
    "f\"{name} {name}\""
   ]
  },
  {
   "cell_type": "code",
   "execution_count": 6,
   "id": "f18edd8b",
   "metadata": {},
   "outputs": [
    {
     "data": {
      "text/plain": [
       "'{name} {name}'"
      ]
     },
     "execution_count": 6,
     "metadata": {},
     "output_type": "execute_result"
    }
   ],
   "source": [
    "\"{name} {name}\""
   ]
  },
  {
   "cell_type": "code",
   "execution_count": null,
   "id": "b5f772af",
   "metadata": {},
   "outputs": [],
   "source": []
  }
 ],
 "metadata": {
  "kernelspec": {
   "display_name": "Python 3 (ipykernel)",
   "language": "python",
   "name": "python3"
  },
  "language_info": {
   "codemirror_mode": {
    "name": "ipython",
    "version": 3
   },
   "file_extension": ".py",
   "mimetype": "text/x-python",
   "name": "python",
   "nbconvert_exporter": "python",
   "pygments_lexer": "ipython3",
   "version": "3.9.7"
  }
 },
 "nbformat": 4,
 "nbformat_minor": 5
}
